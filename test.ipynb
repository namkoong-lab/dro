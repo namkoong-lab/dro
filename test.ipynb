{
 "cells": [
  {
   "cell_type": "code",
   "execution_count": 12,
   "metadata": {},
   "outputs": [
    {
     "name": "stdout",
     "output_type": "stream",
     "text": [
      "===============================================================================\n",
      "                                     CVXPY                                     \n",
      "                                     v1.4.1                                    \n",
      "===============================================================================\n",
      "(CVXPY) Jan 13 05:06:41 PM: Your problem has 24 variables, 7 constraints, and 0 parameters.\n",
      "(CVXPY) Jan 13 05:06:41 PM: It is compliant with the following grammars: DCP, DQCP\n",
      "(CVXPY) Jan 13 05:06:41 PM: (If you need to solve this problem multiple times, but with different data, consider using parameters.)\n",
      "(CVXPY) Jan 13 05:06:41 PM: CVXPY will first compile your problem; then, it will invoke a numerical solver to obtain a solution.\n",
      "(CVXPY) Jan 13 05:06:41 PM: Your problem is compiled with the CPP canonicalization backend.\n",
      "-------------------------------------------------------------------------------\n",
      "                                  Compilation                                  \n",
      "-------------------------------------------------------------------------------\n",
      "(CVXPY) Jan 13 05:06:41 PM: Compiling problem (target solver=MOSEK).\n",
      "(CVXPY) Jan 13 05:06:41 PM: Reduction chain: Dcp2Cone -> CvxAttr2Constr -> ConeMatrixStuffing -> MOSEK\n",
      "(CVXPY) Jan 13 05:06:41 PM: Applying reduction Dcp2Cone\n",
      "(CVXPY) Jan 13 05:06:41 PM: Applying reduction CvxAttr2Constr\n",
      "(CVXPY) Jan 13 05:06:41 PM: Applying reduction ConeMatrixStuffing\n",
      "(CVXPY) Jan 13 05:06:41 PM: Applying reduction MOSEK\n",
      "(CVXPY) Jan 13 05:06:41 PM: Finished problem compilation (took 9.284e-02 seconds).\n",
      "-------------------------------------------------------------------------------\n",
      "                                Numerical solver                               \n",
      "-------------------------------------------------------------------------------\n",
      "(CVXPY) Jan 13 05:06:41 PM: Invoking solver MOSEK  to obtain a solution.\n",
      "\n",
      "\n",
      "(CVXPY) Jan 13 05:06:41 PM: Problem\n",
      "(CVXPY) Jan 13 05:06:41 PM:   Name                   :                 \n",
      "(CVXPY) Jan 13 05:06:41 PM:   Objective sense        : maximize        \n",
      "(CVXPY) Jan 13 05:06:41 PM:   Type                   : CONIC (conic optimization problem)\n",
      "(CVXPY) Jan 13 05:06:41 PM:   Constraints            : 328             \n",
      "(CVXPY) Jan 13 05:06:41 PM:   Affine conic cons.     : 0               \n",
      "(CVXPY) Jan 13 05:06:41 PM:   Disjunctive cons.      : 0               \n",
      "(CVXPY) Jan 13 05:06:41 PM:   Cones                  : 8               \n",
      "(CVXPY) Jan 13 05:06:41 PM:   Scalar variables       : 367             \n",
      "(CVXPY) Jan 13 05:06:41 PM:   Matrix variables       : 0               \n",
      "(CVXPY) Jan 13 05:06:41 PM:   Integer variables      : 0               \n",
      "(CVXPY) Jan 13 05:06:41 PM: \n",
      "(CVXPY) Jan 13 05:06:41 PM: Optimizer started.\n",
      "(CVXPY) Jan 13 05:06:41 PM: Presolve started.\n",
      "(CVXPY) Jan 13 05:06:41 PM: Linear dependency checker started.\n",
      "(CVXPY) Jan 13 05:06:41 PM: Linear dependency checker terminated.\n",
      "(CVXPY) Jan 13 05:06:41 PM: Eliminator started.\n",
      "(CVXPY) Jan 13 05:06:41 PM: Freed constraints in eliminator : 0\n",
      "(CVXPY) Jan 13 05:06:41 PM: Eliminator terminated.\n",
      "(CVXPY) Jan 13 05:06:41 PM: Eliminator - tries                  : 1                 time                   : 0.00            \n",
      "(CVXPY) Jan 13 05:06:41 PM: Lin. dep.  - tries                  : 1                 time                   : 0.00            \n",
      "(CVXPY) Jan 13 05:06:41 PM: Lin. dep.  - number                 : 0               \n",
      "(CVXPY) Jan 13 05:06:41 PM: Presolve terminated. Time: 0.00    \n",
      "(CVXPY) Jan 13 05:06:41 PM: Problem\n",
      "(CVXPY) Jan 13 05:06:41 PM:   Name                   :                 \n",
      "(CVXPY) Jan 13 05:06:41 PM:   Objective sense        : maximize        \n",
      "(CVXPY) Jan 13 05:06:41 PM:   Type                   : CONIC (conic optimization problem)\n",
      "(CVXPY) Jan 13 05:06:41 PM:   Constraints            : 328             \n",
      "(CVXPY) Jan 13 05:06:41 PM:   Affine conic cons.     : 0               \n",
      "(CVXPY) Jan 13 05:06:41 PM:   Disjunctive cons.      : 0               \n",
      "(CVXPY) Jan 13 05:06:41 PM:   Cones                  : 8               \n",
      "(CVXPY) Jan 13 05:06:41 PM:   Scalar variables       : 367             \n",
      "(CVXPY) Jan 13 05:06:41 PM:   Matrix variables       : 0               \n",
      "(CVXPY) Jan 13 05:06:41 PM:   Integer variables      : 0               \n",
      "(CVXPY) Jan 13 05:06:41 PM: \n",
      "(CVXPY) Jan 13 05:06:41 PM: Optimizer  - threads                : 8               \n",
      "(CVXPY) Jan 13 05:06:41 PM: Optimizer  - solved problem         : the primal      \n",
      "(CVXPY) Jan 13 05:06:41 PM: Optimizer  - Constraints            : 48\n",
      "(CVXPY) Jan 13 05:06:41 PM: Optimizer  - Cones                  : 9\n",
      "(CVXPY) Jan 13 05:06:41 PM: Optimizer  - Scalar variables       : 80                conic                  : 34              \n",
      "(CVXPY) Jan 13 05:06:41 PM: Optimizer  - Semi-definite variables: 0                 scalarized             : 0               \n",
      "(CVXPY) Jan 13 05:06:41 PM: Factor     - setup time             : 0.00              dense det. time        : 0.00            \n",
      "(CVXPY) Jan 13 05:06:41 PM: Factor     - ML order time          : 0.00              GP order time          : 0.00            \n",
      "(CVXPY) Jan 13 05:06:41 PM: Factor     - nonzeros before factor : 304               after factor           : 505             \n",
      "(CVXPY) Jan 13 05:06:41 PM: Factor     - dense dim.             : 0                 flops                  : 8.58e+03        \n",
      "(CVXPY) Jan 13 05:06:41 PM: ITE PFEAS    DFEAS    GFEAS    PRSTATUS   POBJ              DOBJ              MU       TIME  \n",
      "(CVXPY) Jan 13 05:06:41 PM: 0   1.0e+00  2.1e+00  1.0e+00  0.00e+00   0.000000000e+00   0.000000000e+00   1.0e+00  0.01  \n",
      "(CVXPY) Jan 13 05:06:41 PM: 1   3.0e-01  6.1e-01  1.6e-01  1.58e+00   -1.054080226e+00  -1.095421760e+00  3.0e-01  0.02  \n",
      "(CVXPY) Jan 13 05:06:41 PM: 2   8.6e-02  1.8e-01  2.9e-02  8.84e-01   -1.900569128e+00  -1.932447124e+00  8.6e-02  0.02  \n",
      "(CVXPY) Jan 13 05:06:41 PM: 3   2.1e-02  4.3e-02  5.0e-03  6.83e-01   -1.940111814e+00  -1.971575879e+00  2.1e-02  0.02  \n",
      "(CVXPY) Jan 13 05:06:41 PM: 4   8.0e-03  1.7e-02  2.5e-03  -8.84e-02  -1.526032882e+00  -1.596354124e+00  8.0e-03  0.02  \n",
      "(CVXPY) Jan 13 05:06:41 PM: 5   1.0e-03  2.2e-03  8.5e-04  -5.64e-01  1.685770429e+00   1.045408164e+00   1.0e-03  0.02  \n",
      "(CVXPY) Jan 13 05:06:41 PM: 6   1.8e-04  3.7e-04  3.4e-04  -9.47e-01  3.821204245e+00   2.827978590e-01   1.8e-04  0.02  \n",
      "(CVXPY) Jan 13 05:06:41 PM: 7   6.3e-07  1.3e-06  2.0e-05  -9.90e-01  9.847587884e+02   5.730896168e-01   6.3e-07  0.02  \n",
      "(CVXPY) Jan 13 05:06:41 PM: 8   5.9e-14  3.4e-14  3.2e-09  -1.00e+00  4.066115184e+10   -2.068117616e-01  1.6e-14  0.02  \n",
      "(CVXPY) Jan 13 05:06:41 PM: 9   4.4e-16  5.0e-24  5.4e-11  -1.00e+00  2.552455129e-02   4.586175038e-24   5.7e-26  0.02  \n",
      "(CVXPY) Jan 13 05:06:41 PM: Optimizer terminated. Time: 0.02    \n",
      "(CVXPY) Jan 13 05:06:41 PM: \n",
      "(CVXPY) Jan 13 05:06:41 PM: \n",
      "(CVXPY) Jan 13 05:06:41 PM: Interior-point solution summary\n",
      "(CVXPY) Jan 13 05:06:41 PM:   Problem status  : DUAL_INFEASIBLE\n",
      "(CVXPY) Jan 13 05:06:41 PM:   Solution status : DUAL_INFEASIBLE_CER\n",
      "(CVXPY) Jan 13 05:06:41 PM:   Primal.  obj: 2.5524551287e-02    nrm: 1e+01    Viol.  con: 2e-15    var: 0e+00    cones: 0e+00  \n",
      "-------------------------------------------------------------------------------\n",
      "                                    Summary                                    \n",
      "-------------------------------------------------------------------------------\n",
      "(CVXPY) Jan 13 05:06:41 PM: Problem status: infeasible\n",
      "(CVXPY) Jan 13 05:06:41 PM: Optimal value: inf\n",
      "(CVXPY) Jan 13 05:06:41 PM: Compilation took 9.284e-02 seconds\n",
      "(CVXPY) Jan 13 05:06:41 PM: Solver (including time spent in interface) took 3.741e-02 seconds\n",
      "inf\n"
     ]
    }
   ],
   "source": [
    "import numpy as np\n",
    "\n",
    "from dro.src.OR_Wasserstein_DRO import *\n",
    "\n",
    "X = np.array([[1], [2], [3], [4]])\n",
    "y = np.array([1, 1.5, 3, 4])\n",
    "model = OR_Wasserstein_DRO(input_dim = 1, model_type = 'svm', eps = 0.5, eta = 0.03)\n",
    "model.fit(X, y)\n",
    "result = model.worst_distribution(X, y)"
   ]
  },
  {
   "cell_type": "code",
   "execution_count": 3,
   "metadata": {},
   "outputs": [
    {
     "data": {
      "text/plain": [
       "1.0"
      ]
     },
     "execution_count": 3,
     "metadata": {},
     "output_type": "execute_result"
    }
   ],
   "source": [
    "model.sigma"
   ]
  },
  {
   "cell_type": "code",
   "execution_count": 7,
   "metadata": {},
   "outputs": [
    {
     "data": {
      "text/plain": [
       "array([1., 1.])"
      ]
     },
     "execution_count": 7,
     "metadata": {},
     "output_type": "execute_result"
    }
   ],
   "source": [
    "np.hstack([X, y.reshape(-1, 1)])[0]"
   ]
  }
 ],
 "metadata": {
  "kernelspec": {
   "display_name": "Python 3.9.7 ('base')",
   "language": "python",
   "name": "python3"
  },
  "language_info": {
   "codemirror_mode": {
    "name": "ipython",
    "version": 3
   },
   "file_extension": ".py",
   "mimetype": "text/x-python",
   "name": "python",
   "nbconvert_exporter": "python",
   "pygments_lexer": "ipython3",
   "version": "3.9.7"
  },
  "orig_nbformat": 4,
  "vscode": {
   "interpreter": {
    "hash": "40d3a090f54c6569ab1632332b64b2c03c39dcf918b08424e98f38b5ae0af88f"
   }
  }
 },
 "nbformat": 4,
 "nbformat_minor": 2
}
