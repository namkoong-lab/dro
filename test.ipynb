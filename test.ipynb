{
 "cells": [
  {
   "cell_type": "code",
   "execution_count": 62,
   "metadata": {},
   "outputs": [
    {
     "name": "stdout",
     "output_type": "stream",
     "text": [
      "{'theta': [-2.000000767319393, 5.00000185975891]}\n",
      "{'theta': [-2.000000843765957, 5.000002006656201]}\n",
      "{'theta': [-2.0000000369480064, 5.000000090054232]}\n",
      "{'theta': [-2.000000051549866, 5.000000136656427]}\n",
      "{'theta': [-48.41958114239484, 126.17786542754993]}\n"
     ]
    }
   ],
   "source": [
    "import numpy as np\n",
    "\n",
    "from dro.src.OR_Wasserstein_DRO import *\n",
    "from dro.src.mmd_dro import *\n",
    "\n",
    "X = np.array([[1, 1], [2, 1], [3, 1], [4,1]])\n",
    "y = np.array([1, 1, 0, 0])\n",
    "model = MMD_DRO(input_dim = 2, model_type = 'svm')\n",
    "for k in range(5):\n",
    "    \n",
    "    model.update({'eta': 0.05 * (k + 1), 'n_certifiy_ratio': 1})\n",
    "    print(model.fit(X, y))"
   ]
  },
  {
   "cell_type": "code",
   "execution_count": 3,
   "metadata": {},
   "outputs": [
    {
     "data": {
      "text/plain": [
       "1.0"
      ]
     },
     "execution_count": 3,
     "metadata": {},
     "output_type": "execute_result"
    }
   ],
   "source": [
    "model.sigma"
   ]
  },
  {
   "cell_type": "code",
   "execution_count": 7,
   "metadata": {},
   "outputs": [
    {
     "data": {
      "text/plain": [
       "array([1., 1.])"
      ]
     },
     "execution_count": 7,
     "metadata": {},
     "output_type": "execute_result"
    }
   ],
   "source": [
    "np.hstack([X, y.reshape(-1, 1)])[0]"
   ]
  }
 ],
 "metadata": {
  "kernelspec": {
   "display_name": "Python 3.9.7 ('base')",
   "language": "python",
   "name": "python3"
  },
  "language_info": {
   "codemirror_mode": {
    "name": "ipython",
    "version": 3
   },
   "file_extension": ".py",
   "mimetype": "text/x-python",
   "name": "python",
   "nbconvert_exporter": "python",
   "pygments_lexer": "ipython3",
   "version": "3.9.7"
  },
  "orig_nbformat": 4,
  "vscode": {
   "interpreter": {
    "hash": "40d3a090f54c6569ab1632332b64b2c03c39dcf918b08424e98f38b5ae0af88f"
   }
  }
 },
 "nbformat": 4,
 "nbformat_minor": 2
}
