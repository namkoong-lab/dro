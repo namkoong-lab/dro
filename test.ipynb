{
 "cells": [
  {
   "cell_type": "code",
   "execution_count": 2,
   "metadata": {},
   "outputs": [],
   "source": [
    "import numpy as np\n",
    "\n",
    "#from dro.src.OR_Wasserstein_DRO import *\n",
    "from dro.src.mmd_dro import *\n",
    "from dro.src.Wasserstein_DRO import *\n",
    "\n",
    "X = np.array([[1, 1], [2, 1], [3, 1], [4,1]])\n",
    "y = np.array([1, 1, 0, 0])\n",
    "model = Wasserstein_DRO(input_dim = 2, model_type = 'svm')\n"
   ]
  },
  {
   "cell_type": "code",
   "execution_count": 5,
   "metadata": {},
   "outputs": [
    {
     "name": "stdout",
     "output_type": "stream",
     "text": [
      "{'theta': [-2.00000000000027, 4.999999999997177]}\n",
      "{'theta': [-0.9999999999999165, 1.9999999999999853]}\n",
      "{'theta': [-0.999999999999908, 1.9999999999998437]}\n",
      "{'theta': [-0.9999999999990905, 1.9999999999975429]}\n",
      "{'theta': [-0.6022672374032751, 1.022985584920784]}\n"
     ]
    }
   ],
   "source": [
    "from types import MethodType\n",
    "\n",
    "def _loss(self, X, y):\n",
    "    return 5 * np.maximum(y - X @ self.theta, 0) + np.maximum(X @ self.theta - y, 0)\n",
    "\n",
    "def _cvx_loss(self, X, y, theta):\n",
    "    return 5 * cp.pos(y - X @ theta) + 1 * cp.pos(X @ theta - y)\n",
    "\n",
    "model._loss = MethodType(_loss, model)\n",
    "model._cvx_loss = MethodType(_cvx_loss, model)\n",
    "for k in range(5):\n",
    "    model.update({'eps': 0.05 * (k + 1), 'n_certifiy_ratio': 1})\n",
    "    print(model.fit(X, y))\n",
    "    "
   ]
  }
 ],
 "metadata": {
  "kernelspec": {
   "display_name": "Python 3.9.7 ('base')",
   "language": "python",
   "name": "python3"
  },
  "language_info": {
   "codemirror_mode": {
    "name": "ipython",
    "version": 3
   },
   "file_extension": ".py",
   "mimetype": "text/x-python",
   "name": "python",
   "nbconvert_exporter": "python",
   "pygments_lexer": "ipython3",
   "version": "3.9.7"
  },
  "orig_nbformat": 4,
  "vscode": {
   "interpreter": {
    "hash": "40d3a090f54c6569ab1632332b64b2c03c39dcf918b08424e98f38b5ae0af88f"
   }
  }
 },
 "nbformat": 4,
 "nbformat_minor": 2
}
