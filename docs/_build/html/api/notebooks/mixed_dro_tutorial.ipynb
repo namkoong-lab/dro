{
 "cells": [
  {
   "cell_type": "markdown",
   "metadata": {},
   "source": [
    "# DRO with Mixed Distances"
   ]
  },
  {
   "cell_type": "markdown",
   "metadata": {},
   "source": [
    "In the part, we discuss Holistic_DRO, OR_Wasserstein_DRO, sinkhorn_dro，MOT_DRO, mmd_dro."
   ]
  },
  {
   "cell_type": "markdown",
   "metadata": {},
   "source": [
    "## Sinkhorn DRO"
   ]
  },
  {
   "cell_type": "code",
   "execution_count": 1,
   "metadata": {},
   "outputs": [
    {
     "name": "stdout",
     "output_type": "stream",
     "text": [
      "Sinkhorn DRO Parameters: {'theta': array([33.68254  , 31.991789 , 29.35907  , 75.16828  ,  7.1587925,\n",
      "       10.2164135, 76.18989  ,  9.457142 ,  5.111819 , 58.3504   ],\n",
      "      dtype=float32), 'bias': array([0.02418859], dtype=float32)}\n",
      "0.9683442762295996\n",
      "Sklearn Coefficients: [33.63648075 32.05820144 29.38822328 75.17312611  7.16263766 10.24411887\n",
      " 76.22903811  9.4250155   5.12332423 58.27112617]\n",
      "0.9999457911466745\n"
     ]
    }
   ],
   "source": [
    "import numpy as np\n",
    "import os\n",
    "# Set the new path\n",
    "new_path = \"../../../../dro/\"\n",
    "# Change the current working directory\n",
    "os.chdir(new_path)\n",
    "\n",
    "from dro.src.linear_model.sinkhorn_dro import *\n",
    "from sklearn.datasets import make_regression\n",
    "\n",
    "from sklearn.linear_model import LinearRegression, Ridge\n",
    "# Data generation\n",
    "X, y = make_regression(n_samples=1000, n_features=10, noise=1, random_state=42)\n",
    "# Model training\n",
    "dro_model = SinkhornLinearDRO(input_dim=10, output_dim=1, k_sample_max=4, reg_param=.001, lambda_param=100, max_iter=1000, model_type='lad')\n",
    "params = dro_model.fit(X, y, optimization_type=\"SG\")\n",
    "print(\"Sinkhorn DRO Parameters:\", params)\n",
    "print(dro_model.score(X, y))\n",
    "\n",
    "# Baseline comparison\n",
    "lr_model = Ridge()\n",
    "lr_model.fit(X, y)\n",
    "print(\"Sklearn Coefficients:\", lr_model.coef_)\n",
    "print(lr_model.score(X,y))"
   ]
  },
  {
   "cell_type": "markdown",
   "metadata": {},
   "source": [
    "## MOT-DRO\n",
    "\n",
    "Based on Theorem 5.2, the current MOT-DRO does not support OLS (not satisfying Assumption 5.1) and does not allow when the uncertainties in Y also change."
   ]
  },
  {
   "cell_type": "code",
   "execution_count": 3,
   "metadata": {},
   "outputs": [
    {
     "data": {
      "text/plain": [
       "2"
      ]
     },
     "execution_count": 3,
     "metadata": {},
     "output_type": "execute_result"
    }
   ],
   "source": [
    "mot_dro_model.square"
   ]
  },
  {
   "cell_type": "code",
   "execution_count": 12,
   "metadata": {},
   "outputs": [
    {
     "name": "stdout",
     "output_type": "stream",
     "text": [
      "optimal\n"
     ]
    },
    {
     "data": {
      "text/plain": [
       "{'theta': [76.21549008802516,\n",
       "  53.29365206722688,\n",
       "  5.247024476719606,\n",
       "  52.46410467428327,\n",
       "  71.74006746557663,\n",
       "  1.214010437742156,\n",
       "  63.72428607060585,\n",
       "  14.065875967406525,\n",
       "  2.9976521566974133,\n",
       "  44.93666594066296],\n",
       " 'b': array(1.29102913)}"
      ]
     },
     "execution_count": 12,
     "metadata": {},
     "output_type": "execute_result"
    }
   ],
   "source": [
    "import numpy as np\n",
    "import os\n",
    "\n",
    "from sklearn.datasets import make_regression, make_classification\n",
    "\n",
    "from sklearn.linear_model import LinearRegression, Ridge\n",
    "# Data generation\n",
    "X, y = make_regression(n_samples=100, n_features=10, random_state=42)\n",
    "\n",
    "\n",
    "\n",
    "# Set the new path\n",
    "new_path = \"../../../../dro/\"\n",
    "# Change the current working directory\n",
    "os.chdir(new_path)\n",
    "\n",
    "from dro.src.linear_model.mot_dro import *\n",
    "mot_dro_model = MOTDRO(input_dim = 10, model_type = 'lad', fit_intercept = True)\n",
    "mot_dro_model.update({'eps': 1, 'square':2})\n",
    "mot_dro_model.fit(X, y)"
   ]
  }
 ],
 "metadata": {
  "kernelspec": {
   "display_name": "Python 3.9.7 ('base')",
   "language": "python",
   "name": "python3"
  },
  "language_info": {
   "codemirror_mode": {
    "name": "ipython",
    "version": 3
   },
   "file_extension": ".py",
   "mimetype": "text/x-python",
   "name": "python",
   "nbconvert_exporter": "python",
   "pygments_lexer": "ipython3",
   "version": "3.9.7"
  },
  "vscode": {
   "interpreter": {
    "hash": "40d3a090f54c6569ab1632332b64b2c03c39dcf918b08424e98f38b5ae0af88f"
   }
  }
 },
 "nbformat": 4,
 "nbformat_minor": 2
}
