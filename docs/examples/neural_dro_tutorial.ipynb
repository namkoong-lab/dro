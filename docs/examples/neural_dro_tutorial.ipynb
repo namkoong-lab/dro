{
 "cells": [
  {
   "cell_type": "markdown",
   "metadata": {},
   "source": [
    "We demonstrate how to adapt the neural network structure with robust loss for both classification and regression with examples here."
   ]
  }
 ],
 "metadata": {
  "kernelspec": {
   "display_name": "Python 3.9.7 ('base')",
   "language": "python",
   "name": "python3"
  },
  "language_info": {
   "name": "python",
   "version": "3.9.7"
  },
  "orig_nbformat": 4,
  "vscode": {
   "interpreter": {
    "hash": "40d3a090f54c6569ab1632332b64b2c03c39dcf918b08424e98f38b5ae0af88f"
   }
  }
 },
 "nbformat": 4,
 "nbformat_minor": 2
}
