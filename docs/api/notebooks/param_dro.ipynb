{
 "cells": [
  {
   "cell_type": "markdown",
   "metadata": {},
   "source": [
    "# Bayesian DRO"
   ]
  },
  {
   "cell_type": "markdown",
   "metadata": {},
   "source": [
    "In some special examples where we have some priors or parametric information for the distribution shift, we can apply the following Bayesian DRO or Parametric DRO. These are usually built or designed with a under the f-dro framework.\n",
    "\n",
    "We discuss the DRO models based on misspecified parametric distribution assumptions.\n",
    "\n",
    "They are often imposed in newsvendor or portfolio loss or regression with gaussian assumptions.\n",
    "\n",
    "\n",
    "## Frequensit\n",
    "\n",
    "PDRO"
   ]
  },
  {
   "cell_type": "markdown",
   "metadata": {},
   "source": [
    "## Bayesian\n",
    "\n",
    "Bayesian-DRO.\n",
    "\n",
    "We provide additional model type called ``newsvendor`` loss. The default setup is as follows:\n",
    "$\\ell(\\theta;(X, Y)) = 3 (Y - \\theta)_+ + (\\theta - Y)_+$.\n",
    "In this case, X is the unit vector. That corresponds to exponential gamma conjugate.\n",
    "\n",
    "That is, when conducting fitting, resampling, we ignore the existence of $X$. "
   ]
  },
  {
   "cell_type": "code",
   "execution_count": 2,
   "metadata": {},
   "outputs": [
    {
     "data": {
      "text/plain": [
       "{'theta': [1.247224712497421], 'b': None}"
      ]
     },
     "execution_count": 2,
     "metadata": {},
     "output_type": "execute_result"
    }
   ],
   "source": [
    "## Newsvendor Example\n",
    "import numpy as np\n",
    "from dro.src.linear_model.chi2_dro import *\n",
    "from dro.src.linear_model.bayesian_dro import *\n",
    "\n",
    "from dro.src.data.dataloader_regression import regression_basic\n",
    "\n",
    "feature_dim = 1\n",
    "sample_num = 1000\n",
    "X = np.ones((sample_num, feature_dim))\n",
    "y = np.random.exponential(2, sample_num)\n",
    "\n",
    "reg_model = BayesianDRO(input_dim = feature_dim, model_type = 'newsvendor')\n",
    "reg_model.update({'posterior_param_num': 1, 'distribution_class': 'Exponential', 'distance_type': 'KL'})\n",
    "reg_model.fit(X, y)"
   ]
  },
  {
   "cell_type": "code",
   "execution_count": 3,
   "metadata": {},
   "outputs": [
    {
     "data": {
      "text/plain": [
       "'KL'"
      ]
     },
     "execution_count": 3,
     "metadata": {},
     "output_type": "execute_result"
    }
   ],
   "source": [
    "reg_model.distance_type"
   ]
  },
  {
   "cell_type": "code",
   "execution_count": 5,
   "metadata": {},
   "outputs": [
    {
     "name": "stdout",
     "output_type": "stream",
     "text": [
      "None\n"
     ]
    }
   ],
   "source": [
    "theta = cp.Variable(1)\n",
    "b = cp.Variable(1)\n",
    "eta = cp.Variable()\n",
    "loss = np.sqrt(1) / np.sqrt(sample_num) * cp.norm(cp.pos(reg_model._cvx_loss(X[0], y[0], theta, b) - eta), 2) + eta\n",
    "t = cp.Variable()\n",
    "problem = cp.Problem(cp.Minimize(t), [t >= loss])\n",
    "problem.solve(solver = 'MOSEK')\n",
    "print(theta.value)"
   ]
  },
  {
   "cell_type": "code",
   "execution_count": 6,
   "metadata": {},
   "outputs": [
    {
     "name": "stdout",
     "output_type": "stream",
     "text": [
      "sample lool 0\n",
      "sample lool 1\n",
      "sample lool 2\n",
      "sample lool 3\n",
      "sample lool 4\n"
     ]
    },
    {
     "data": {
      "text/plain": [
       "{'theta': [62.32133125379543,\n",
       "  98.46704995782926,\n",
       "  63.84212624706619,\n",
       "  55.049783063901124,\n",
       "  35.33344387475412],\n",
       " 'b': array(0.66106353)}"
      ]
     },
     "execution_count": 6,
     "metadata": {},
     "output_type": "execute_result"
    }
   ],
   "source": [
    "## Regression Example\n",
    "from dro.src.linear_model.chi2_dro import *\n",
    "from dro.src.linear_model.bayesian_dro import *\n",
    "\n",
    "from dro.src.data.dataloader_regression import regression_basic\n",
    "\n",
    "feature_dim = 5\n",
    "X, y = regression_basic(num_samples = 100, d = feature_dim, noise = 1)\n",
    "\n",
    "reg_model = BayesianDRO(input_dim = feature_dim, model_type = 'ols')\n",
    "\n",
    "reg_model.update({'posterior_param_num': 5, 'distance_type': 'chi2'})\n",
    "reg_model.fit(X, y)"
   ]
  }
 ],
 "metadata": {
  "kernelspec": {
   "display_name": "Python 3.9.7 ('base')",
   "language": "python",
   "name": "python3"
  },
  "language_info": {
   "codemirror_mode": {
    "name": "ipython",
    "version": 3
   },
   "file_extension": ".py",
   "mimetype": "text/x-python",
   "name": "python",
   "nbconvert_exporter": "python",
   "pygments_lexer": "ipython3",
   "version": "3.9.7"
  },
  "orig_nbformat": 4,
  "vscode": {
   "interpreter": {
    "hash": "40d3a090f54c6569ab1632332b64b2c03c39dcf918b08424e98f38b5ae0af88f"
   }
  }
 },
 "nbformat": 4,
 "nbformat_minor": 2
}
