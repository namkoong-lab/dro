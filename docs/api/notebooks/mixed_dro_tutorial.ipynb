{
 "cells": [
  {
   "cell_type": "markdown",
   "metadata": {},
   "source": [
    "# DRO with Mixed Distances"
   ]
  },
  {
   "cell_type": "markdown",
   "metadata": {},
   "source": [
    "In the part, we discuss Holistic_DRO, OR_Wasserstein_DRO, sinkhorn_dro，MOT_DRO, mmd_dro."
   ]
  },
  {
   "cell_type": "markdown",
   "metadata": {},
   "source": [
    "## Sinkhorn DRO"
   ]
  },
  {
   "cell_type": "code",
   "execution_count": 2,
   "metadata": {},
   "outputs": [
    {
     "name": "stdout",
     "output_type": "stream",
     "text": [
      "Sinkhorn DRO Parameters: {'theta': array([33.62842  , 32.07984  , 29.337708 , 75.20312  ,  7.1283865,\n",
      "       10.303551 , 76.18889  ,  9.4795065,  5.1007333, 58.23321  ],\n",
      "      dtype=float32), 'bias': array([-0.06006475], dtype=float32)}\n",
      "0.970199884678563\n",
      "Sklearn Coefficients: [33.63648075 32.05820144 29.38822328 75.17312611  7.16263766 10.24411887\n",
      " 76.22903811  9.4250155   5.12332423 58.27112617]\n",
      "0.9999457911466745\n"
     ]
    }
   ],
   "source": [
    "from dro.src.linear_model.sinkhorn_dro import *\n",
    "from sklearn.datasets import make_regression\n",
    "from sklearn.linear_model import Ridge\n",
    "\n",
    "# Data generation\n",
    "X, y = make_regression(n_samples=1000, n_features=10, noise=1, random_state=42)\n",
    "\n",
    "# Model training\n",
    "dro_model = SinkhornLinearDRO(input_dim=10, output_dim=1, k_sample_max=4, reg_param=.001, lambda_param=100, max_iter=1000, model_type='lad')\n",
    "params = dro_model.fit(X, y, optimization_type=\"SG\")\n",
    "print(\"Sinkhorn DRO Parameters:\", params)\n",
    "print(dro_model.score(X, y))\n",
    "\n",
    "# Baseline comparison\n",
    "lr_model = Ridge()\n",
    "lr_model.fit(X, y)\n",
    "print(\"Sklearn Coefficients:\", lr_model.coef_)\n",
    "print(lr_model.score(X,y))"
   ]
  },
  {
   "cell_type": "markdown",
   "metadata": {},
   "source": [
    "## MOT-DRO\n",
    "\n",
    "Based on Theorem 5.2, the current MOT-DRO does not support OLS (not satisfying Assumption 5.1) and does not allow when the uncertainties in Y also change."
   ]
  },
  {
   "cell_type": "code",
   "execution_count": 4,
   "metadata": {},
   "outputs": [
    {
     "name": "stdout",
     "output_type": "stream",
     "text": [
      "optimal\n"
     ]
    },
    {
     "data": {
      "text/plain": [
       "{'theta': [76.21548985345878,\n",
       "  53.29365202998623,\n",
       "  5.247024494762593,\n",
       "  52.46410461035137,\n",
       "  71.74006738420996,\n",
       "  1.214010364770905,\n",
       "  63.72428598909404,\n",
       "  14.06587595353978,\n",
       "  2.997652104182758,\n",
       "  44.93666589113934],\n",
       " 'b': array(1.29102914)}"
      ]
     },
     "execution_count": 4,
     "metadata": {},
     "output_type": "execute_result"
    }
   ],
   "source": [
    "import numpy as np\n",
    "import os\n",
    "from sklearn.datasets import make_regression\n",
    "\n",
    "# Data generation\n",
    "X, y = make_regression(n_samples=100, n_features=10, random_state=42)\n",
    "\n",
    "from dro.src.linear_model.mot_dro import *\n",
    "mot_dro_model = MOTDRO(input_dim = 10, model_type = 'lad', fit_intercept = True)\n",
    "mot_dro_model.update({'eps': 1, 'square':2})\n",
    "mot_dro_model.fit(X, y)"
   ]
  }
 ],
 "metadata": {
  "kernelspec": {
   "display_name": "Python 3.9.7 ('base')",
   "language": "python",
   "name": "python3"
  },
  "language_info": {
   "codemirror_mode": {
    "name": "ipython",
    "version": 3
   },
   "file_extension": ".py",
   "mimetype": "text/x-python",
   "name": "python",
   "nbconvert_exporter": "python",
   "pygments_lexer": "ipython3",
   "version": "3.9.7"
  },
  "vscode": {
   "interpreter": {
    "hash": "40d3a090f54c6569ab1632332b64b2c03c39dcf918b08424e98f38b5ae0af88f"
   }
  }
 },
 "nbformat": 4,
 "nbformat_minor": 2
}
