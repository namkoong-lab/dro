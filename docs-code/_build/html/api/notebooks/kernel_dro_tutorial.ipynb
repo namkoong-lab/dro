{
 "cells": [
  {
   "cell_type": "markdown",
   "metadata": {},
   "source": [
    "# Kernel Distributionally Robust Optimization\n",
    "This is not MMD-DRO. Instead, we still define DRO ambiguity sets through standard DRO models, while the model class is set beyond the kernel feature. "
   ]
  },
  {
   "cell_type": "code",
   "execution_count": 2,
   "metadata": {},
   "outputs": [],
   "source": [
    "from dro.linear_model.wasserstein_dro import *\n",
    "from dro.data.dataloader_regression import regression_basic\n",
    "from dro.data.dataloader_classification import classification_basic\n",
    "from dro.data.draw_utils import draw_classification\n",
    "\n",
    "feature_dim = 2\n",
    "X, y = classification_basic(d = feature_dim, num_samples = 500, radius = 3, visualize = False)\n",
    "\n",
    "\n",
    "#draw_classification(X, y, title = 'Raw Data')\n",
    "kernel_clf_model = WassersteinDRO(input_dim = feature_dim, model_type = 'svm', kernel = 'rbf')\n",
    "kernel_clf_model.update_kernel({'metric': 'poly', 'kernel_gamma': 1})\n",
    "kernel_clf_model.update({'eps': .1})\n",
    "params = kernel_clf_model.fit(X, y)\n"
   ]
  },
  {
   "cell_type": "code",
   "execution_count": 3,
   "metadata": {},
   "outputs": [],
   "source": [
    "from dro.linear_model.chi2_dro import *\n",
    "from dro.linear_model.kl_dro import *\n",
    "from dro.linear_model.tv_dro import *\n",
    "from dro.linear_model.cvar_dro import *\n",
    "from dro.linear_model.marginal_dro import *\n",
    "from dro.linear_model.conditional_dro import *\n",
    "\n",
    "kernel_clf_model = Chi2DRO(input_dim = feature_dim, model_type = 'svm', kernel = 'poly')\n",
    "kernel_clf_model.update({'eps': 10})\n",
    "params = kernel_clf_model.fit(X, y)\n",
    "\n",
    "kernel_clf_model = KLDRO(input_dim = feature_dim, model_type = 'svm', kernel = 'rbf')\n",
    "kernel_clf_model.update({'eps': 2})\n",
    "params = kernel_clf_model.fit(X, y)\n",
    "\n",
    "kernel_clf_model = CVaRDRO(input_dim = feature_dim, model_type = 'logistic', kernel = 'sigmoid')\n",
    "kernel_clf_model.update({'alpha': 0.9})\n",
    "params = kernel_clf_model.fit(X, y)\n",
    "\n",
    "kernel_clf_model = TVDRO(input_dim = feature_dim, model_type = 'logistic', kernel = 'poly')\n",
    "kernel_clf_model.update({'eps': 0.01})\n",
    "params = kernel_clf_model.fit(X, y)\n",
    "\n",
    "\n"
   ]
  },
  {
   "cell_type": "code",
   "execution_count": 5,
   "metadata": {},
   "outputs": [
    {
     "name": "stderr",
     "output_type": "stream",
     "text": [
      "/Users/jiashuo/anaconda3/envs/llm-ot/lib/python3.10/site-packages/cvxpy/expressions/expression.py:674: UserWarning: \n",
      "This use of ``*`` has resulted in matrix multiplication.\n",
      "Using ``*`` for matrix multiplication has been deprecated since CVXPY 1.1.\n",
      "    Use ``*`` for matrix-scalar and vector-scalar multiplication.\n",
      "    Use ``@`` for matrix-matrix and matrix-vector multiplication.\n",
      "    Use ``multiply`` for elementwise multiplication.\n",
      "This code path has been hit 2 times so far.\n",
      "\n",
      "  warnings.warn(msg, UserWarning)\n"
     ]
    },
    {
     "data": {
      "text/plain": [
       "(0.986, 0.9859994959818553)"
      ]
     },
     "execution_count": 5,
     "metadata": {},
     "output_type": "execute_result"
    }
   ],
   "source": [
    "kernel_clf_model = MarginalCVaRDRO(input_dim = feature_dim, model_type = 'svm', kernel = 'poly')\n",
    "kernel_clf_model.update({'alpha': 0.9})\n",
    "params = kernel_clf_model.fit(X, y)\n",
    "kernel_clf_model.score(X,y)"
   ]
  },
  {
   "cell_type": "code",
   "execution_count": 6,
   "metadata": {},
   "outputs": [
    {
     "name": "stdout",
     "output_type": "stream",
     "text": [
      "coef [[-0.25769266 -0.64158585 -3.57086163 -0.78030986 -0.43010956 -0.01490551\n",
      "   0.76823835  0.16369363  1.56160661  1.47227558  0.03362333  1.69602757]] [[ 0.38846926 -0.7028592   1.35277704  0.69878398 -2.12650133]\n",
      " [ 2.31753572 -0.46290575  1.17834297  1.18731603 -0.94596622]\n",
      " [ 0.25018034  1.61514873  1.09731754  1.55435329  0.42096142]\n",
      " [-0.3689567  -0.02826586 -0.84885536  1.28387817 -0.20472226]\n",
      " [ 0.13204275 -0.69776822  2.16793699  2.95568251 -2.16462365]\n",
      " [ 1.78316707 -1.07634697  0.80160239  2.94332765  0.57396163]\n",
      " [-0.00613887  4.01699229  1.16884802  0.82769028 -1.76806615]\n",
      " [ 0.45436803  2.56600279  0.90566671 -0.6451926  -1.13588996]\n",
      " [-2.28630569  2.45244185  1.26490427  1.72628874  0.65931799]\n",
      " [-0.06598713  2.44424396  0.03599602  0.40586944  1.60361199]\n",
      " [ 0.42349747  1.56956827  2.60746837 -2.13880444  1.43853605]\n",
      " [ 1.82292115  1.4884194   0.63837633 -0.63730201  0.3482033 ]] [0.47099307]\n"
     ]
    }
   ],
   "source": [
    "from sklearn.svm import SVC\n",
    "from dro.data.dataloader_regression import regression_basic\n",
    "from dro.data.dataloader_classification import classification_basic\n",
    "from dro.data.draw_utils import draw_classification\n",
    "\n",
    "feature_dim = 5\n",
    "X, y = classification_basic(d = feature_dim, num_samples = 25, radius = 3, visualize = False)\n",
    "\n",
    "clf = SVC(kernel = 'rbf', C = 100000000)\n",
    "clf.fit(X, y)\n",
    "print('coef', clf.dual_coef_, clf.support_vectors_, clf.intercept_)"
   ]
  },
  {
   "cell_type": "code",
   "execution_count": 7,
   "metadata": {},
   "outputs": [
    {
     "data": {
      "text/plain": [
       "{'theta': [28.183849164084634,\n",
       "  -40.587191522263076,\n",
       "  -25.771734799878164,\n",
       "  24.507949490371534,\n",
       "  -20.773407080679252,\n",
       "  -32.97201768430408,\n",
       "  3.720089369558843,\n",
       "  -71.2805334354158,\n",
       "  70.95668207216211,\n",
       "  -50.90241684443111,\n",
       "  41.142825176686436,\n",
       "  -57.152569382263984,\n",
       "  57.59235347448549,\n",
       "  48.59610303450425,\n",
       "  26.428015099762195,\n",
       "  -0.05635013918886693,\n",
       "  9.225598822381361,\n",
       "  -40.7058061185105,\n",
       "  -30.048264859949104,\n",
       "  19.95875895029569],\n",
       " 'b': array(-37.78937028)}"
      ]
     },
     "execution_count": 7,
     "metadata": {},
     "output_type": "execute_result"
    }
   ],
   "source": [
    "feature_dim = 5\n",
    "X, y = regression_basic(num_samples = 20, d = feature_dim, noise = 1)\n",
    "\n",
    "reg_model = WassersteinDRO(input_dim = feature_dim, model_type = 'lad', kernel = 'rbf')\n",
    "\n",
    "reg_model.update_kernel({'metric': 'rbf'})\n",
    "reg_model.update({'eps': 1})\n",
    "reg_model.fit(X, y)"
   ]
  }
 ],
 "metadata": {
  "kernelspec": {
   "display_name": "Python 3.9.7 ('base')",
   "language": "python",
   "name": "python3"
  },
  "language_info": {
   "codemirror_mode": {
    "name": "ipython",
    "version": 3
   },
   "file_extension": ".py",
   "mimetype": "text/x-python",
   "name": "python",
   "nbconvert_exporter": "python",
   "pygments_lexer": "ipython3",
   "version": "3.10.14"
  },
  "vscode": {
   "interpreter": {
    "hash": "40d3a090f54c6569ab1632332b64b2c03c39dcf918b08424e98f38b5ae0af88f"
   }
  }
 },
 "nbformat": 4,
 "nbformat_minor": 2
}
