{
 "cells": [
  {
   "cell_type": "markdown",
   "metadata": {},
   "source": [
    "# DRO on Tree-Ensemble Models"
   ]
  },
  {
   "cell_type": "code",
   "execution_count": 2,
   "metadata": {},
   "outputs": [],
   "source": [
    "import xgboost as xgb \n",
    "import numpy as np \n",
    "from sklearn.model_selection import train_test_split\n",
    "from sklearn.datasets import make_classification\n",
    "from dro.tree_model.xgb import KLDRO_XGB, CVaRDRO_XGB\n",
    "from dro.tree_model.lgbm import KLDRO_LGBM, CVaRDRO_LGBM"
   ]
  },
  {
   "cell_type": "code",
   "execution_count": 3,
   "metadata": {},
   "outputs": [
    {
     "name": "stdout",
     "output_type": "stream",
     "text": [
      "0.945\n"
     ]
    }
   ],
   "source": [
    "X, y = make_classification(\n",
    "        n_samples=1000,        \n",
    "        n_features=5,         \n",
    "        n_informative=3,     \n",
    "        n_redundant=1,        \n",
    "        n_classes=2,          \n",
    "        random_state=42      \n",
    "    )   \n",
    "\n",
    "X_train, X_test, y_train, y_test = train_test_split(X, y, test_size=.2)\n",
    "# create model instance\n",
    "model = KLDRO_XGB(eps=0.001)\n",
    "config = {\"max_depth\":2, \"learning_rate\":1, \"num_boost_round\":4}\n",
    "model.update(config)\n",
    "model.fit(X_train, y_train)\n",
    "predict = model.predict(X_test)\n",
    "print((predict==y_test).mean())"
   ]
  },
  {
   "cell_type": "code",
   "execution_count": 4,
   "metadata": {},
   "outputs": [
    {
     "name": "stdout",
     "output_type": "stream",
     "text": [
      "0.935\n"
     ]
    }
   ],
   "source": [
    "X, y = make_classification(\n",
    "        n_samples=1000,        \n",
    "        n_features=5,         \n",
    "        n_informative=3,     \n",
    "        n_redundant=1,        \n",
    "        n_classes=2,          \n",
    "        random_state=42      \n",
    "    )   \n",
    "\n",
    "X_train, X_test, y_train, y_test = train_test_split(X, y, test_size=.2)\n",
    "# create model instance\n",
    "model = CVaRDRO_XGB(eps=0.1)\n",
    "config = {\"max_depth\":2, \"learning_rate\":1, \"num_boost_round\":4}\n",
    "model.update(config)\n",
    "model.fit(X_train, y_train)\n",
    "predict = model.predict(X_test)\n",
    "print((predict==y_test).mean())"
   ]
  },
  {
   "cell_type": "code",
   "execution_count": 5,
   "metadata": {},
   "outputs": [
    {
     "name": "stdout",
     "output_type": "stream",
     "text": [
      "[LightGBM] [Info] Using self-defined objective function\n",
      "0.95\n"
     ]
    }
   ],
   "source": [
    "X, y = make_classification(\n",
    "        n_samples=1000,        \n",
    "        n_features=5,         \n",
    "        n_informative=3,     \n",
    "        n_redundant=1,        \n",
    "        n_classes=2,          \n",
    "        random_state=42      \n",
    "    )   \n",
    "\n",
    "X_train, X_test, y_train, y_test = train_test_split(X, y, test_size=.2)\n",
    "# create model instance\n",
    "model = CVaRDRO_LGBM(eps=0.1)\n",
    "config = {\"max_depth\":2, \"learning_rate\":1, \"num_boost_round\":4}\n",
    "model.update(config)\n",
    "model.fit(X_train, y_train)\n",
    "predict = model.predict(X_test)\n",
    "print((predict==y_test).mean())"
   ]
  },
  {
   "cell_type": "code",
   "execution_count": 6,
   "metadata": {},
   "outputs": [
    {
     "name": "stdout",
     "output_type": "stream",
     "text": [
      "[LightGBM] [Info] Using self-defined objective function\n",
      "0.94\n"
     ]
    }
   ],
   "source": [
    "X, y = make_classification(\n",
    "        n_samples=1000,        \n",
    "        n_features=5,         \n",
    "        n_informative=3,     \n",
    "        n_redundant=1,        \n",
    "        n_classes=2,          \n",
    "        random_state=42      \n",
    "    )   \n",
    "\n",
    "X_train, X_test, y_train, y_test = train_test_split(X, y, test_size=.2)\n",
    "# create model instance\n",
    "model = KLDRO_LGBM(eps=0.1)\n",
    "config = {\"max_depth\":2, \"learning_rate\":1, \"num_boost_round\":4}\n",
    "model.update(config)\n",
    "model.fit(X_train, y_train)\n",
    "predict = model.predict(X_test)\n",
    "print((predict==y_test).mean())"
   ]
  }
 ],
 "metadata": {
  "kernelspec": {
   "display_name": "llm-ot",
   "language": "python",
   "name": "python3"
  },
  "language_info": {
   "codemirror_mode": {
    "name": "ipython",
    "version": 3
   },
   "file_extension": ".py",
   "mimetype": "text/x-python",
   "name": "python",
   "nbconvert_exporter": "python",
   "pygments_lexer": "ipython3",
   "version": "3.10.14"
  }
 },
 "nbformat": 4,
 "nbformat_minor": 2
}
