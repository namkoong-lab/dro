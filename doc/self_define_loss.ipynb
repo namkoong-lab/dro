{
 "cells": [
  {
   "cell_type": "markdown",
   "metadata": {},
   "source": [
    "In the following, we present a case to show how to incorporate the personalized loss and plug it into different DRO losses."
   ]
  },
  {
   "cell_type": "code",
   "execution_count": 3,
   "metadata": {},
   "outputs": [
    {
     "name": "stdout",
     "output_type": "stream",
     "text": [
      "{'theta': [-0.48891007299787476, 1.9556403007778032]}\n",
      "{'theta': [-0.47103180655319055, 1.8841272540151666]}\n",
      "{'theta': [-0.4651670885530432, 1.8606683558961619]}\n",
      "{'theta': [-0.4620192279713162, 1.8480769103478247]}\n",
      "{'theta': [-0.4599744797040242, 1.839897918619857]}\n"
     ]
    }
   ],
   "source": [
    "import os\n",
    "# Set the new path\n",
    "new_path = \"/Users/wty6162/Desktop/DRO_solver/dro\"\n",
    "\n",
    "# Change the current working directory\n",
    "os.chdir(new_path)\n",
    "\n",
    "import numpy as np\n",
    "\n",
    "#from dro.src.OR_Wasserstein_DRO import *\n",
    "from dro.src.Wasserstein_DRO import *\n",
    "from dro.src.chi2_dro import *\n",
    "\n",
    "X = np.array([[1, 1], [2, 1], [3, 1], [4,1]])\n",
    "y = np.array([1, 1, 0, 0])\n",
    "model = Chi2DRO(input_dim = 2, model_type = 'quantile')\n",
    "\n",
    "\n",
    "from types import MethodType\n",
    "\n",
    "def _loss(self, X, y):\n",
    "    return 3 * np.maximum(y - X @ self.theta, 0) + np.maximum(X @ self.theta - y, 0)\n",
    "\n",
    "def _cvx_loss(self, X, y, theta):\n",
    "    return 3 * cp.pos(y - X @ theta) + 1 * cp.pos(X @ theta - y)\n",
    "\n",
    "model._loss = MethodType(_loss, model)\n",
    "model._cvx_loss = MethodType(_cvx_loss, model)\n",
    "for k in range(5):\n",
    "    model.update({'eps': 0.05 * (k + 1), 'n_certifiy_ratio': 1})\n",
    "    print(model.fit(X, y))"
   ]
  },
  {
   "cell_type": "markdown",
   "metadata": {},
   "source": [
    "However, for more complicated losses, such as hr-dro and wasserstein-dro, where the loss difference changes with the inner function fit, it has not been implemented yet."
   ]
  },
  {
   "cell_type": "code",
   "execution_count": 5,
   "metadata": {},
   "outputs": [
    {
     "data": {
      "text/plain": [
       "array([0.22442099, 0.33542839, 0.69314718, 0.69314718])"
      ]
     },
     "execution_count": 5,
     "metadata": {},
     "output_type": "execute_result"
    }
   ],
   "source": [
    "np.log(1 + np.exp(-np.multiply(y, X @ model.theta)))"
   ]
  },
  {
   "cell_type": "markdown",
   "metadata": {},
   "source": [
    "Uncontextual and Contextual Robust Learning:\n",
    "- uncontextual: by taking $X$ as a 1-d unit one vector\n",
    "- contextual: newsvendor (the same as quantile regression); portfolio "
   ]
  }
 ],
 "metadata": {
  "kernelspec": {
   "display_name": "Python 3.9.7 ('base')",
   "language": "python",
   "name": "python3"
  },
  "language_info": {
   "codemirror_mode": {
    "name": "ipython",
    "version": 3
   },
   "file_extension": ".py",
   "mimetype": "text/x-python",
   "name": "python",
   "nbconvert_exporter": "python",
   "pygments_lexer": "ipython3",
   "version": "3.9.7"
  },
  "orig_nbformat": 4,
  "vscode": {
   "interpreter": {
    "hash": "40d3a090f54c6569ab1632332b64b2c03c39dcf918b08424e98f38b5ae0af88f"
   }
  }
 },
 "nbformat": 4,
 "nbformat_minor": 2
}
